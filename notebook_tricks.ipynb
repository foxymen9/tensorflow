{
 "cells": [
  {
   "cell_type": "markdown",
   "metadata": {},
   "source": [
    "# Tips and tricks for more effective coding in IPython notebooks\n",
    "\n",
    "## 1. Commands\n",
    "- `?`: shows general IPython help, main features\n",
    "- `object?`: details about `object` (`object??` for extra details)"
   ]
  },
  {
   "cell_type": "code",
   "execution_count": 6,
   "metadata": {
    "collapsed": true
   },
   "outputs": [],
   "source": [
    "hello = 'Hello world!'\n",
    "hello?"
   ]
  },
  {
   "cell_type": "markdown",
   "metadata": {},
   "source": [
    "`%quickref`: quick reference card about magic functions\n",
    "\n",
    "## 2. Features\n",
    "### 2.1 Tab completion\n",
    "- `object.<TAB>`: view the object's attributes; completion also works for objects, keywords, file, and directory names. Note: requires GNU readline library (has to be downloaded on Windows).\n",
    "\n",
    "### 2.2 Magic functions\n",
    "- `%timeit`: line time-tracking (`%%timeit` for tracking whole cell)"
   ]
  },
  {
   "cell_type": "code",
   "execution_count": 11,
   "metadata": {
    "collapsed": false
   },
   "outputs": [
    {
     "name": "stdout",
     "output_type": "stream",
     "text": [
      "100000 loops, best of 3: 9.64 µs per loop\n"
     ]
    }
   ],
   "source": [
    "%timeit range(1000)"
   ]
  },
  {
   "cell_type": "code",
   "execution_count": 13,
   "metadata": {
    "collapsed": false
   },
   "outputs": [
    {
     "name": "stdout",
     "output_type": "stream",
     "text": [
      "1000 loops, best of 3: 205 µs per loop\n"
     ]
    }
   ],
   "source": [
    "%%timeit x = range(10000)\n",
    "max(x)"
   ]
  },
  {
   "cell_type": "markdown",
   "metadata": {},
   "source": [
    "- `%run`: run a python script and load its data in the namespace (can be called with `-d` to enable debugging)\n",
    "- `%debug`: use it after an exception occurs to jump into the debugger\n",
    "- `%pdb`: use it at the beginning of a file to automatically launch the debugger every time an exception occurs"
   ]
  },
  {
   "cell_type": "markdown",
   "metadata": {},
   "source": [
    "## 2.3 Tips & tricks\n",
    "- Matlab-like output suppression by putting `;` at the end of a line\n",
    "- `CTRL` + `m`, `m` to change a cell's style to Markdown"
   ]
  }
 ],
 "metadata": {
  "kernelspec": {
   "display_name": "Python 2",
   "language": "python",
   "name": "python2"
  },
  "language_info": {
   "codemirror_mode": {
    "name": "ipython",
    "version": 2
   },
   "file_extension": ".py",
   "mimetype": "text/x-python",
   "name": "python",
   "nbconvert_exporter": "python",
   "pygments_lexer": "ipython2",
   "version": "2.7.6"
  }
 },
 "nbformat": 4,
 "nbformat_minor": 0
}
